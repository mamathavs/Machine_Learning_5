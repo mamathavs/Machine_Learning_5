{
 "cells": [
  {
   "cell_type": "markdown",
   "metadata": {},
   "source": [
    "#### Build the random forest model after normalizing the variable to house pricing from boston data set."
   ]
  },
  {
   "cell_type": "code",
   "execution_count": 54,
   "metadata": {},
   "outputs": [],
   "source": [
    "import sklearn.datasets as datasets\n",
    "\n",
    "import re\n",
    "import pandas as pd\n",
    "import numpy as np\n",
    "import matplotlib.pyplot as plt\n",
    "%matplotlib inline\n",
    "\n",
    "from pandas.plotting import scatter_matrix\n",
    "import seaborn as sns\n",
    "\n",
    "from sklearn.preprocessing import MinMaxScaler\n",
    "\n",
    "from sklearn.model_selection import train_test_split\n",
    "from sklearn.model_selection import cross_val_score, KFold\n",
    "from sklearn.model_selection import GridSearchCV\n",
    "\n",
    "from sklearn.tree import DecisionTreeRegressor\n",
    "from sklearn.ensemble import RandomForestRegressor\n",
    "\n",
    "from sklearn.metrics import mean_squared_error\n",
    "\n",
    "# We want to make sure all numbers display in a consistent manner\n",
    "pd.options.display.float_format = '{:.5f}'.format"
   ]
  },
  {
   "cell_type": "code",
   "execution_count": 37,
   "metadata": {},
   "outputs": [],
   "source": [
    "import warnings\n",
    "warnings.filterwarnings(\"ignore\")"
   ]
  },
  {
   "cell_type": "code",
   "execution_count": 38,
   "metadata": {},
   "outputs": [],
   "source": [
    "# Load dataset\n",
    "data = datasets.load_boston()\n",
    "# Extract feature names, predictors and targets from sklearn dictionary\n",
    "names = data.feature_names\n",
    "predictors = data.data\n",
    "targets = data.target\n",
    "# Concatenate predictors and targets for easier processing later on. Let's also name the columns.\n",
    "df = pd.concat([pd.DataFrame(predictors, columns=names), pd.DataFrame(targets, columns=['MEDV'])], axis=1)"
   ]
  },
  {
   "cell_type": "code",
   "execution_count": 39,
   "metadata": {},
   "outputs": [
    {
     "data": {
      "text/html": [
       "<div>\n",
       "<style scoped>\n",
       "    .dataframe tbody tr th:only-of-type {\n",
       "        vertical-align: middle;\n",
       "    }\n",
       "\n",
       "    .dataframe tbody tr th {\n",
       "        vertical-align: top;\n",
       "    }\n",
       "\n",
       "    .dataframe thead th {\n",
       "        text-align: right;\n",
       "    }\n",
       "</style>\n",
       "<table border=\"1\" class=\"dataframe\">\n",
       "  <thead>\n",
       "    <tr style=\"text-align: right;\">\n",
       "      <th></th>\n",
       "      <th>CRIM</th>\n",
       "      <th>ZN</th>\n",
       "      <th>INDUS</th>\n",
       "      <th>CHAS</th>\n",
       "      <th>NOX</th>\n",
       "      <th>RM</th>\n",
       "      <th>AGE</th>\n",
       "      <th>DIS</th>\n",
       "      <th>RAD</th>\n",
       "      <th>TAX</th>\n",
       "      <th>PTRATIO</th>\n",
       "      <th>B</th>\n",
       "      <th>LSTAT</th>\n",
       "      <th>MEDV</th>\n",
       "    </tr>\n",
       "  </thead>\n",
       "  <tbody>\n",
       "    <tr>\n",
       "      <th>0</th>\n",
       "      <td>0.00632</td>\n",
       "      <td>18.00000</td>\n",
       "      <td>2.31000</td>\n",
       "      <td>0.00000</td>\n",
       "      <td>0.53800</td>\n",
       "      <td>6.57500</td>\n",
       "      <td>65.20000</td>\n",
       "      <td>4.09000</td>\n",
       "      <td>1.00000</td>\n",
       "      <td>296.00000</td>\n",
       "      <td>15.30000</td>\n",
       "      <td>396.90000</td>\n",
       "      <td>4.98000</td>\n",
       "      <td>24.00000</td>\n",
       "    </tr>\n",
       "    <tr>\n",
       "      <th>1</th>\n",
       "      <td>0.02731</td>\n",
       "      <td>0.00000</td>\n",
       "      <td>7.07000</td>\n",
       "      <td>0.00000</td>\n",
       "      <td>0.46900</td>\n",
       "      <td>6.42100</td>\n",
       "      <td>78.90000</td>\n",
       "      <td>4.96710</td>\n",
       "      <td>2.00000</td>\n",
       "      <td>242.00000</td>\n",
       "      <td>17.80000</td>\n",
       "      <td>396.90000</td>\n",
       "      <td>9.14000</td>\n",
       "      <td>21.60000</td>\n",
       "    </tr>\n",
       "    <tr>\n",
       "      <th>2</th>\n",
       "      <td>0.02729</td>\n",
       "      <td>0.00000</td>\n",
       "      <td>7.07000</td>\n",
       "      <td>0.00000</td>\n",
       "      <td>0.46900</td>\n",
       "      <td>7.18500</td>\n",
       "      <td>61.10000</td>\n",
       "      <td>4.96710</td>\n",
       "      <td>2.00000</td>\n",
       "      <td>242.00000</td>\n",
       "      <td>17.80000</td>\n",
       "      <td>392.83000</td>\n",
       "      <td>4.03000</td>\n",
       "      <td>34.70000</td>\n",
       "    </tr>\n",
       "    <tr>\n",
       "      <th>3</th>\n",
       "      <td>0.03237</td>\n",
       "      <td>0.00000</td>\n",
       "      <td>2.18000</td>\n",
       "      <td>0.00000</td>\n",
       "      <td>0.45800</td>\n",
       "      <td>6.99800</td>\n",
       "      <td>45.80000</td>\n",
       "      <td>6.06220</td>\n",
       "      <td>3.00000</td>\n",
       "      <td>222.00000</td>\n",
       "      <td>18.70000</td>\n",
       "      <td>394.63000</td>\n",
       "      <td>2.94000</td>\n",
       "      <td>33.40000</td>\n",
       "    </tr>\n",
       "    <tr>\n",
       "      <th>4</th>\n",
       "      <td>0.06905</td>\n",
       "      <td>0.00000</td>\n",
       "      <td>2.18000</td>\n",
       "      <td>0.00000</td>\n",
       "      <td>0.45800</td>\n",
       "      <td>7.14700</td>\n",
       "      <td>54.20000</td>\n",
       "      <td>6.06220</td>\n",
       "      <td>3.00000</td>\n",
       "      <td>222.00000</td>\n",
       "      <td>18.70000</td>\n",
       "      <td>396.90000</td>\n",
       "      <td>5.33000</td>\n",
       "      <td>36.20000</td>\n",
       "    </tr>\n",
       "  </tbody>\n",
       "</table>\n",
       "</div>"
      ],
      "text/plain": [
       "     CRIM       ZN   INDUS    CHAS     NOX      RM      AGE     DIS     RAD  \\\n",
       "0 0.00632 18.00000 2.31000 0.00000 0.53800 6.57500 65.20000 4.09000 1.00000   \n",
       "1 0.02731  0.00000 7.07000 0.00000 0.46900 6.42100 78.90000 4.96710 2.00000   \n",
       "2 0.02729  0.00000 7.07000 0.00000 0.46900 7.18500 61.10000 4.96710 2.00000   \n",
       "3 0.03237  0.00000 2.18000 0.00000 0.45800 6.99800 45.80000 6.06220 3.00000   \n",
       "4 0.06905  0.00000 2.18000 0.00000 0.45800 7.14700 54.20000 6.06220 3.00000   \n",
       "\n",
       "        TAX  PTRATIO         B   LSTAT     MEDV  \n",
       "0 296.00000 15.30000 396.90000 4.98000 24.00000  \n",
       "1 242.00000 17.80000 396.90000 9.14000 21.60000  \n",
       "2 242.00000 17.80000 392.83000 4.03000 34.70000  \n",
       "3 222.00000 18.70000 394.63000 2.94000 33.40000  \n",
       "4 222.00000 18.70000 396.90000 5.33000 36.20000  "
      ]
     },
     "execution_count": 39,
     "metadata": {},
     "output_type": "execute_result"
    }
   ],
   "source": [
    "df.head()"
   ]
  },
  {
   "cell_type": "code",
   "execution_count": 40,
   "metadata": {},
   "outputs": [
    {
     "data": {
      "text/plain": [
       "float64    14\n",
       "dtype: int64"
      ]
     },
     "execution_count": 40,
     "metadata": {},
     "output_type": "execute_result"
    }
   ],
   "source": [
    "df.dtypes.value_counts()"
   ]
  },
  {
   "cell_type": "code",
   "execution_count": 41,
   "metadata": {},
   "outputs": [
    {
     "data": {
      "text/html": [
       "<div>\n",
       "<style scoped>\n",
       "    .dataframe tbody tr th:only-of-type {\n",
       "        vertical-align: middle;\n",
       "    }\n",
       "\n",
       "    .dataframe tbody tr th {\n",
       "        vertical-align: top;\n",
       "    }\n",
       "\n",
       "    .dataframe thead th {\n",
       "        text-align: right;\n",
       "    }\n",
       "</style>\n",
       "<table border=\"1\" class=\"dataframe\">\n",
       "  <thead>\n",
       "    <tr style=\"text-align: right;\">\n",
       "      <th></th>\n",
       "      <th>CRIM</th>\n",
       "      <th>ZN</th>\n",
       "      <th>INDUS</th>\n",
       "      <th>CHAS</th>\n",
       "      <th>NOX</th>\n",
       "      <th>RM</th>\n",
       "      <th>AGE</th>\n",
       "      <th>DIS</th>\n",
       "      <th>RAD</th>\n",
       "      <th>TAX</th>\n",
       "      <th>PTRATIO</th>\n",
       "      <th>B</th>\n",
       "      <th>LSTAT</th>\n",
       "      <th>MEDV</th>\n",
       "    </tr>\n",
       "  </thead>\n",
       "  <tbody>\n",
       "    <tr>\n",
       "      <th>count</th>\n",
       "      <td>506.00000</td>\n",
       "      <td>506.00000</td>\n",
       "      <td>506.00000</td>\n",
       "      <td>506.00000</td>\n",
       "      <td>506.00000</td>\n",
       "      <td>506.00000</td>\n",
       "      <td>506.00000</td>\n",
       "      <td>506.00000</td>\n",
       "      <td>506.00000</td>\n",
       "      <td>506.00000</td>\n",
       "      <td>506.00000</td>\n",
       "      <td>506.00000</td>\n",
       "      <td>506.00000</td>\n",
       "      <td>506.00000</td>\n",
       "    </tr>\n",
       "    <tr>\n",
       "      <th>mean</th>\n",
       "      <td>3.59376</td>\n",
       "      <td>11.36364</td>\n",
       "      <td>11.13678</td>\n",
       "      <td>0.06917</td>\n",
       "      <td>0.55470</td>\n",
       "      <td>6.28463</td>\n",
       "      <td>68.57490</td>\n",
       "      <td>3.79504</td>\n",
       "      <td>9.54941</td>\n",
       "      <td>408.23715</td>\n",
       "      <td>18.45553</td>\n",
       "      <td>356.67403</td>\n",
       "      <td>12.65306</td>\n",
       "      <td>22.53281</td>\n",
       "    </tr>\n",
       "    <tr>\n",
       "      <th>std</th>\n",
       "      <td>8.59678</td>\n",
       "      <td>23.32245</td>\n",
       "      <td>6.86035</td>\n",
       "      <td>0.25399</td>\n",
       "      <td>0.11588</td>\n",
       "      <td>0.70262</td>\n",
       "      <td>28.14886</td>\n",
       "      <td>2.10571</td>\n",
       "      <td>8.70726</td>\n",
       "      <td>168.53712</td>\n",
       "      <td>2.16495</td>\n",
       "      <td>91.29486</td>\n",
       "      <td>7.14106</td>\n",
       "      <td>9.19710</td>\n",
       "    </tr>\n",
       "    <tr>\n",
       "      <th>min</th>\n",
       "      <td>0.00632</td>\n",
       "      <td>0.00000</td>\n",
       "      <td>0.46000</td>\n",
       "      <td>0.00000</td>\n",
       "      <td>0.38500</td>\n",
       "      <td>3.56100</td>\n",
       "      <td>2.90000</td>\n",
       "      <td>1.12960</td>\n",
       "      <td>1.00000</td>\n",
       "      <td>187.00000</td>\n",
       "      <td>12.60000</td>\n",
       "      <td>0.32000</td>\n",
       "      <td>1.73000</td>\n",
       "      <td>5.00000</td>\n",
       "    </tr>\n",
       "    <tr>\n",
       "      <th>25%</th>\n",
       "      <td>0.08204</td>\n",
       "      <td>0.00000</td>\n",
       "      <td>5.19000</td>\n",
       "      <td>0.00000</td>\n",
       "      <td>0.44900</td>\n",
       "      <td>5.88550</td>\n",
       "      <td>45.02500</td>\n",
       "      <td>2.10018</td>\n",
       "      <td>4.00000</td>\n",
       "      <td>279.00000</td>\n",
       "      <td>17.40000</td>\n",
       "      <td>375.37750</td>\n",
       "      <td>6.95000</td>\n",
       "      <td>17.02500</td>\n",
       "    </tr>\n",
       "    <tr>\n",
       "      <th>50%</th>\n",
       "      <td>0.25651</td>\n",
       "      <td>0.00000</td>\n",
       "      <td>9.69000</td>\n",
       "      <td>0.00000</td>\n",
       "      <td>0.53800</td>\n",
       "      <td>6.20850</td>\n",
       "      <td>77.50000</td>\n",
       "      <td>3.20745</td>\n",
       "      <td>5.00000</td>\n",
       "      <td>330.00000</td>\n",
       "      <td>19.05000</td>\n",
       "      <td>391.44000</td>\n",
       "      <td>11.36000</td>\n",
       "      <td>21.20000</td>\n",
       "    </tr>\n",
       "    <tr>\n",
       "      <th>75%</th>\n",
       "      <td>3.64742</td>\n",
       "      <td>12.50000</td>\n",
       "      <td>18.10000</td>\n",
       "      <td>0.00000</td>\n",
       "      <td>0.62400</td>\n",
       "      <td>6.62350</td>\n",
       "      <td>94.07500</td>\n",
       "      <td>5.18843</td>\n",
       "      <td>24.00000</td>\n",
       "      <td>666.00000</td>\n",
       "      <td>20.20000</td>\n",
       "      <td>396.22500</td>\n",
       "      <td>16.95500</td>\n",
       "      <td>25.00000</td>\n",
       "    </tr>\n",
       "    <tr>\n",
       "      <th>max</th>\n",
       "      <td>88.97620</td>\n",
       "      <td>100.00000</td>\n",
       "      <td>27.74000</td>\n",
       "      <td>1.00000</td>\n",
       "      <td>0.87100</td>\n",
       "      <td>8.78000</td>\n",
       "      <td>100.00000</td>\n",
       "      <td>12.12650</td>\n",
       "      <td>24.00000</td>\n",
       "      <td>711.00000</td>\n",
       "      <td>22.00000</td>\n",
       "      <td>396.90000</td>\n",
       "      <td>37.97000</td>\n",
       "      <td>50.00000</td>\n",
       "    </tr>\n",
       "  </tbody>\n",
       "</table>\n",
       "</div>"
      ],
      "text/plain": [
       "           CRIM        ZN     INDUS      CHAS       NOX        RM       AGE  \\\n",
       "count 506.00000 506.00000 506.00000 506.00000 506.00000 506.00000 506.00000   \n",
       "mean    3.59376  11.36364  11.13678   0.06917   0.55470   6.28463  68.57490   \n",
       "std     8.59678  23.32245   6.86035   0.25399   0.11588   0.70262  28.14886   \n",
       "min     0.00632   0.00000   0.46000   0.00000   0.38500   3.56100   2.90000   \n",
       "25%     0.08204   0.00000   5.19000   0.00000   0.44900   5.88550  45.02500   \n",
       "50%     0.25651   0.00000   9.69000   0.00000   0.53800   6.20850  77.50000   \n",
       "75%     3.64742  12.50000  18.10000   0.00000   0.62400   6.62350  94.07500   \n",
       "max    88.97620 100.00000  27.74000   1.00000   0.87100   8.78000 100.00000   \n",
       "\n",
       "            DIS       RAD       TAX   PTRATIO         B     LSTAT      MEDV  \n",
       "count 506.00000 506.00000 506.00000 506.00000 506.00000 506.00000 506.00000  \n",
       "mean    3.79504   9.54941 408.23715  18.45553 356.67403  12.65306  22.53281  \n",
       "std     2.10571   8.70726 168.53712   2.16495  91.29486   7.14106   9.19710  \n",
       "min     1.12960   1.00000 187.00000  12.60000   0.32000   1.73000   5.00000  \n",
       "25%     2.10018   4.00000 279.00000  17.40000 375.37750   6.95000  17.02500  \n",
       "50%     3.20745   5.00000 330.00000  19.05000 391.44000  11.36000  21.20000  \n",
       "75%     5.18843  24.00000 666.00000  20.20000 396.22500  16.95500  25.00000  \n",
       "max    12.12650  24.00000 711.00000  22.00000 396.90000  37.97000  50.00000  "
      ]
     },
     "execution_count": 41,
     "metadata": {},
     "output_type": "execute_result"
    }
   ],
   "source": [
    "df.describe()"
   ]
  },
  {
   "cell_type": "code",
   "execution_count": 42,
   "metadata": {},
   "outputs": [
    {
     "data": {
      "image/png": "[encoded data removed]",
      "text/plain": [
       "<Figure size 720x720 with 16 Axes>"
      ]
     },
     "metadata": {
      "needs_background": "light"
     },
     "output_type": "display_data"
    }
   ],
   "source": [
    "df.hist(figsize=(10, 10), bins=20)\n",
    "plt.show()"
   ]
  },
  {
   "cell_type": "code",
   "execution_count": 43,
   "metadata": {},
   "outputs": [
    {
     "data": {
      "text/plain": [
       "CRIM       0\n",
       "ZN         0\n",
       "INDUS      0\n",
       "CHAS       0\n",
       "NOX        0\n",
       "RM         0\n",
       "AGE        0\n",
       "DIS        0\n",
       "RAD        0\n",
       "TAX        0\n",
       "PTRATIO    0\n",
       "B          0\n",
       "LSTAT      0\n",
       "MEDV       0\n",
       "dtype: int64"
      ]
     },
     "execution_count": 43,
     "metadata": {},
     "output_type": "execute_result"
    }
   ],
   "source": [
    "df.isna().sum()"
   ]
  },
  {
   "cell_type": "code",
   "execution_count": 44,
   "metadata": {},
   "outputs": [
    {
     "data": {
      "text/plain": [
       "<matplotlib.axes._subplots.AxesSubplot at 0xfbfd5fe6d8>"
      ]
     },
     "execution_count": 44,
     "metadata": {},
     "output_type": "execute_result"
    },
    {
     "data": {
      "image/png": "[encoded data removed]",
      "text/plain": [
       "<Figure size 1080x720 with 2 Axes>"
      ]
     },
     "metadata": {
      "needs_background": "light"
     },
     "output_type": "display_data"
    }
   ],
   "source": [
    "df_corr = df.corr().abs()\n",
    "filter = (df_corr == 1) | (df_corr < 0.75)\n",
    "df_corr[filter] = 0\n",
    "df_corr\n",
    "\n",
    "f, ax = plt.subplots(figsize=(15, 10))\n",
    "sns.heatmap(df_corr, annot=True, annot_kws={'size': 14},\n",
    "            cmap=sns.diverging_palette(220, 20, n=11))"
   ]
  },
  {
   "cell_type": "code",
   "execution_count": 45,
   "metadata": {},
   "outputs": [
    {
     "data": {
      "text/html": [
       "<div>\n",
       "<style scoped>\n",
       "    .dataframe tbody tr th:only-of-type {\n",
       "        vertical-align: middle;\n",
       "    }\n",
       "\n",
       "    .dataframe tbody tr th {\n",
       "        vertical-align: top;\n",
       "    }\n",
       "\n",
       "    .dataframe thead th {\n",
       "        text-align: right;\n",
       "    }\n",
       "</style>\n",
       "<table border=\"1\" class=\"dataframe\">\n",
       "  <thead>\n",
       "    <tr style=\"text-align: right;\">\n",
       "      <th></th>\n",
       "      <th>CRIM</th>\n",
       "      <th>ZN</th>\n",
       "      <th>INDUS</th>\n",
       "      <th>CHAS</th>\n",
       "      <th>RM</th>\n",
       "      <th>AGE</th>\n",
       "      <th>DIS</th>\n",
       "      <th>TAX</th>\n",
       "      <th>PTRATIO</th>\n",
       "      <th>B</th>\n",
       "      <th>LSTAT</th>\n",
       "      <th>MEDV</th>\n",
       "    </tr>\n",
       "  </thead>\n",
       "  <tbody>\n",
       "    <tr>\n",
       "      <th>0</th>\n",
       "      <td>0.00632</td>\n",
       "      <td>18.00000</td>\n",
       "      <td>2.31000</td>\n",
       "      <td>0.00000</td>\n",
       "      <td>6.57500</td>\n",
       "      <td>65.20000</td>\n",
       "      <td>4.09000</td>\n",
       "      <td>296.00000</td>\n",
       "      <td>15.30000</td>\n",
       "      <td>396.90000</td>\n",
       "      <td>4.98000</td>\n",
       "      <td>24.00000</td>\n",
       "    </tr>\n",
       "    <tr>\n",
       "      <th>1</th>\n",
       "      <td>0.02731</td>\n",
       "      <td>0.00000</td>\n",
       "      <td>7.07000</td>\n",
       "      <td>0.00000</td>\n",
       "      <td>6.42100</td>\n",
       "      <td>78.90000</td>\n",
       "      <td>4.96710</td>\n",
       "      <td>242.00000</td>\n",
       "      <td>17.80000</td>\n",
       "      <td>396.90000</td>\n",
       "      <td>9.14000</td>\n",
       "      <td>21.60000</td>\n",
       "    </tr>\n",
       "    <tr>\n",
       "      <th>2</th>\n",
       "      <td>0.02729</td>\n",
       "      <td>0.00000</td>\n",
       "      <td>7.07000</td>\n",
       "      <td>0.00000</td>\n",
       "      <td>7.18500</td>\n",
       "      <td>61.10000</td>\n",
       "      <td>4.96710</td>\n",
       "      <td>242.00000</td>\n",
       "      <td>17.80000</td>\n",
       "      <td>392.83000</td>\n",
       "      <td>4.03000</td>\n",
       "      <td>34.70000</td>\n",
       "    </tr>\n",
       "    <tr>\n",
       "      <th>3</th>\n",
       "      <td>0.03237</td>\n",
       "      <td>0.00000</td>\n",
       "      <td>2.18000</td>\n",
       "      <td>0.00000</td>\n",
       "      <td>6.99800</td>\n",
       "      <td>45.80000</td>\n",
       "      <td>6.06220</td>\n",
       "      <td>222.00000</td>\n",
       "      <td>18.70000</td>\n",
       "      <td>394.63000</td>\n",
       "      <td>2.94000</td>\n",
       "      <td>33.40000</td>\n",
       "    </tr>\n",
       "    <tr>\n",
       "      <th>4</th>\n",
       "      <td>0.06905</td>\n",
       "      <td>0.00000</td>\n",
       "      <td>2.18000</td>\n",
       "      <td>0.00000</td>\n",
       "      <td>7.14700</td>\n",
       "      <td>54.20000</td>\n",
       "      <td>6.06220</td>\n",
       "      <td>222.00000</td>\n",
       "      <td>18.70000</td>\n",
       "      <td>396.90000</td>\n",
       "      <td>5.33000</td>\n",
       "      <td>36.20000</td>\n",
       "    </tr>\n",
       "  </tbody>\n",
       "</table>\n",
       "</div>"
      ],
      "text/plain": [
       "     CRIM       ZN   INDUS    CHAS      RM      AGE     DIS       TAX  \\\n",
       "0 0.00632 18.00000 2.31000 0.00000 6.57500 65.20000 4.09000 296.00000   \n",
       "1 0.02731  0.00000 7.07000 0.00000 6.42100 78.90000 4.96710 242.00000   \n",
       "2 0.02729  0.00000 7.07000 0.00000 7.18500 61.10000 4.96710 242.00000   \n",
       "3 0.03237  0.00000 2.18000 0.00000 6.99800 45.80000 6.06220 222.00000   \n",
       "4 0.06905  0.00000 2.18000 0.00000 7.14700 54.20000 6.06220 222.00000   \n",
       "\n",
       "   PTRATIO         B   LSTAT     MEDV  \n",
       "0 15.30000 396.90000 4.98000 24.00000  \n",
       "1 17.80000 396.90000 9.14000 21.60000  \n",
       "2 17.80000 392.83000 4.03000 34.70000  \n",
       "3 18.70000 394.63000 2.94000 33.40000  \n",
       "4 18.70000 396.90000 5.33000 36.20000  "
      ]
     },
     "execution_count": 45,
     "metadata": {},
     "output_type": "execute_result"
    }
   ],
   "source": [
    "#Dimensionality reduction\n",
    "cols_corr_manual = ['NOX', 'RAD']\n",
    "df = df.drop(columns=cols_corr_manual)\n",
    "df.head()"
   ]
  },
  {
   "cell_type": "markdown",
   "metadata": {},
   "source": [
    "Splitting train and test dataset"
   ]
  },
  {
   "cell_type": "code",
   "execution_count": 46,
   "metadata": {},
   "outputs": [],
   "source": [
    "# Train-set predictors/targets\n",
    "X = df.iloc[:, 0:-1]\n",
    "y = df.iloc[:, -1]"
   ]
  },
  {
   "cell_type": "code",
   "execution_count": 49,
   "metadata": {},
   "outputs": [],
   "source": [
    "x_training_set, x_test_set, y_training_set, y_test_set = train_test_split(X,y,test_size=0.10, \n",
    "                                                                          random_state=42,\n",
    "                                                                          shuffle=True)"
   ]
  },
  {
   "cell_type": "code",
   "execution_count": 50,
   "metadata": {},
   "outputs": [
    {
     "data": {
      "text/plain": [
       "RandomForestRegressor(bootstrap=True, criterion='mse', max_depth=None,\n",
       "           max_features='auto', max_leaf_nodes=None,\n",
       "           min_impurity_decrease=0.0, min_impurity_split=None,\n",
       "           min_samples_leaf=1, min_samples_split=2,\n",
       "           min_weight_fraction_leaf=0.0, n_estimators=100, n_jobs=1,\n",
       "           oob_score=False, random_state=0, verbose=0, warm_start=False)"
      ]
     },
     "execution_count": 50,
     "metadata": {},
     "output_type": "execute_result"
    }
   ],
   "source": [
    "#Training/model fitting:\n",
    "n_estimators=100\n",
    "# Fit regression model\n",
    "# Estimate the score on the entire dataset, with no missing values\n",
    "model = RandomForestRegressor(random_state=0, n_estimators=n_estimators)\n",
    "model.fit(x_training_set, y_training_set)"
   ]
  },
  {
   "cell_type": "code",
   "execution_count": 51,
   "metadata": {},
   "outputs": [
    {
     "name": "stdout",
     "output_type": "stream",
     "text": [
      "coefficient of determination R^2 of the prediction.: 0.9804086304299443\n",
      "Mean squared error: 10.36\n",
      "Test Variance score: 0.83\n"
     ]
    }
   ],
   "source": [
    "#Model parameters study :\n",
    "#The coefficient R^2 is defined as (1 – u/v), where u is the residual sum of squares ((y_true – y_pred) ** 2).sum() and v is the total sum of squares ((y_true – y_true.mean()) ** 2).sum().\n",
    "from sklearn.metrics import mean_squared_error, r2_score\n",
    "model_score = model.score(x_training_set,y_training_set)\n",
    "# Have a look at R sq to give an idea of the fit ,\n",
    "# Explained variance score: 1 is perfect prediction\n",
    "print(\"coefficient of determination R^2 of the prediction.:\",model_score)\n",
    "y_predicted = model.predict(x_test_set)\n",
    "\n",
    "# The mean squared error\n",
    "print(\"Mean squared error: %.2f\"% mean_squared_error(y_test_set, y_predicted))\n",
    "# Explained variance score: 1 is perfect prediction\n",
    "print('Test Variance score: %.2f' % r2_score(y_test_set, y_predicted))"
   ]
  },
  {
   "cell_type": "code",
   "execution_count": 52,
   "metadata": {},
   "outputs": [
    {
     "data": {
      "image/png": "[encoded data removed]",
      "text/plain": [
       "<Figure size 432x288 with 1 Axes>"
      ]
     },
     "metadata": {
      "needs_background": "light"
     },
     "output_type": "display_data"
    }
   ],
   "source": [
    "#Accuracy report with test data :\n",
    "# So let's run the model against the test data\n",
    "from sklearn.model_selection import cross_val_predict\n",
    "\n",
    "fig, ax = plt.subplots()\n",
    "\n",
    "ax.scatter(y_test_set, y_predicted, edgecolors=(0, 0, 0))\n",
    "\n",
    "ax.plot([y_test_set.min(), y_test_set.max()], [y_test_set.min(), y_test_set.max()], 'k--', lw=4)\n",
    "\n",
    "ax.set_xlabel('Actual')\n",
    "\n",
    "ax.set_ylabel('Predicted')\n",
    "\n",
    "ax.set_title(\"Ground Truth vs Predicted\")\n",
    "\n",
    "plt.show()"
   ]
  },
  {
   "cell_type": "code",
   "execution_count": null,
   "metadata": {},
   "outputs": [],
   "source": []
  }
 ],
 "metadata": {
  "kernelspec": {
   "display_name": "Python 3",
   "language": "python",
   "name": "python3"
  },
  "language_info": {
   "codemirror_mode": {
    "name": "ipython",
    "version": 3
   },
   "file_extension": ".py",
   "mimetype": "text/x-python",
   "name": "python",
   "nbconvert_exporter": "python",
   "pygments_lexer": "ipython3",
   "version": "3.7.0"
  }
 },
 "nbformat": 4,
 "nbformat_minor": 2
}
